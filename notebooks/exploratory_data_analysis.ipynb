{
 "cells": [
  {
   "cell_type": "markdown",
   "id": "bdf81fd1-7253-44bf-ac05-55d648ffa6f0",
   "metadata": {},
   "source": [
    "### Importing Libraries"
   ]
  },
  {
   "cell_type": "code",
   "execution_count": 45,
   "id": "72232a62-8881-4e8d-86b9-e79a088420cf",
   "metadata": {},
   "outputs": [],
   "source": [
    "import os\n",
    "\n",
    "# data manipulation\n",
    "import numpy as np\n",
    "import pandas as pd\n",
    "from datetime import datetime\n",
    "\n",
    "# data imputation\n",
    "from sklearn.impute import SimpleImputer\n",
    "\n",
    "# data visualization\n",
    "import seaborn as sns\n",
    "import matplotlib.pyplot as plt"
   ]
  },
  {
   "cell_type": "markdown",
   "id": "bc69eb9b-2a67-4270-a7da-1761608e5e37",
   "metadata": {},
   "source": [
    "## Data Ingestion"
   ]
  },
  {
   "cell_type": "code",
   "execution_count": 46,
   "id": "293a49d3-0add-4df5-8396-84a88774413a",
   "metadata": {},
   "outputs": [],
   "source": [
    "os.chdir('..')\n",
    "os.chdir('data')\n",
    "dataframe= pd.read_csv('marketing_campaign.csv', sep= '\\t')\n",
    "os.chdir('..')\n",
    "os.chdir('notebooks')"
   ]
  },
  {
   "cell_type": "markdown",
   "id": "435d3063-2d6d-446b-903d-36d0b847ce07",
   "metadata": {},
   "source": [
    "### Assessing the Data"
   ]
  },
  {
   "cell_type": "markdown",
   "id": "d597a191-ad55-43af-9f47-568dd3fbb48d",
   "metadata": {},
   "source": [
    "#### Checking NaN values"
   ]
  },
  {
   "cell_type": "code",
   "execution_count": 47,
   "id": "d2904453-8eb3-407d-8457-fa48bd2ec21d",
   "metadata": {},
   "outputs": [
    {
     "data": {
      "text/plain": [
       "ID                      0\n",
       "Year_Birth              0\n",
       "Education               0\n",
       "Marital_Status          0\n",
       "Income                 24\n",
       "Kidhome                 0\n",
       "Teenhome                0\n",
       "Dt_Customer             0\n",
       "Recency                 0\n",
       "MntWines                0\n",
       "MntFruits               0\n",
       "MntMeatProducts         0\n",
       "MntFishProducts         0\n",
       "MntSweetProducts        0\n",
       "MntGoldProds            0\n",
       "NumDealsPurchases       0\n",
       "NumWebPurchases         0\n",
       "NumCatalogPurchases     0\n",
       "NumStorePurchases       0\n",
       "NumWebVisitsMonth       0\n",
       "AcceptedCmp3            0\n",
       "AcceptedCmp4            0\n",
       "AcceptedCmp5            0\n",
       "AcceptedCmp1            0\n",
       "AcceptedCmp2            0\n",
       "Complain                0\n",
       "Z_CostContact           0\n",
       "Z_Revenue               0\n",
       "Response                0\n",
       "dtype: int64"
      ]
     },
     "execution_count": 47,
     "metadata": {},
     "output_type": "execute_result"
    }
   ],
   "source": [
    "dataframe.isna().sum()"
   ]
  },
  {
   "cell_type": "markdown",
   "id": "6b93f4ba-e256-470f-9a22-8b20bdff229f",
   "metadata": {},
   "source": [
    "##### Observations:\n",
    "- Income feature column has 24 data points with NaN values."
   ]
  },
  {
   "cell_type": "markdown",
   "id": "2e99901a-274e-4d85-b960-e17bc204852a",
   "metadata": {},
   "source": [
    "#### Checking Duplicated Rows"
   ]
  },
  {
   "cell_type": "code",
   "execution_count": 48,
   "id": "0fd39cc9-e8c0-4733-8f81-6dc84923aa94",
   "metadata": {},
   "outputs": [
    {
     "data": {
      "text/plain": [
       "0"
      ]
     },
     "execution_count": 48,
     "metadata": {},
     "output_type": "execute_result"
    }
   ],
   "source": [
    "dataframe.duplicated().sum()"
   ]
  },
  {
   "cell_type": "markdown",
   "id": "2b0bfe46-e25a-4e93-9518-958a32a41a43",
   "metadata": {},
   "source": [
    "##### Observations:\n",
    "- Dataframe doesn't contain any duplicated values."
   ]
  },
  {
   "cell_type": "markdown",
   "id": "677d47bb-4226-4730-9435-6343e6b28bad",
   "metadata": {},
   "source": [
    "#### Checking Data Type for Columns"
   ]
  },
  {
   "cell_type": "code",
   "execution_count": 49,
   "id": "44dc9ea6-af6e-42f3-8c8f-b02228ff98bc",
   "metadata": {},
   "outputs": [
    {
     "name": "stdout",
     "output_type": "stream",
     "text": [
      "<class 'pandas.core.frame.DataFrame'>\n",
      "RangeIndex: 2240 entries, 0 to 2239\n",
      "Data columns (total 29 columns):\n",
      " #   Column               Non-Null Count  Dtype  \n",
      "---  ------               --------------  -----  \n",
      " 0   ID                   2240 non-null   int64  \n",
      " 1   Year_Birth           2240 non-null   int64  \n",
      " 2   Education            2240 non-null   object \n",
      " 3   Marital_Status       2240 non-null   object \n",
      " 4   Income               2216 non-null   float64\n",
      " 5   Kidhome              2240 non-null   int64  \n",
      " 6   Teenhome             2240 non-null   int64  \n",
      " 7   Dt_Customer          2240 non-null   object \n",
      " 8   Recency              2240 non-null   int64  \n",
      " 9   MntWines             2240 non-null   int64  \n",
      " 10  MntFruits            2240 non-null   int64  \n",
      " 11  MntMeatProducts      2240 non-null   int64  \n",
      " 12  MntFishProducts      2240 non-null   int64  \n",
      " 13  MntSweetProducts     2240 non-null   int64  \n",
      " 14  MntGoldProds         2240 non-null   int64  \n",
      " 15  NumDealsPurchases    2240 non-null   int64  \n",
      " 16  NumWebPurchases      2240 non-null   int64  \n",
      " 17  NumCatalogPurchases  2240 non-null   int64  \n",
      " 18  NumStorePurchases    2240 non-null   int64  \n",
      " 19  NumWebVisitsMonth    2240 non-null   int64  \n",
      " 20  AcceptedCmp3         2240 non-null   int64  \n",
      " 21  AcceptedCmp4         2240 non-null   int64  \n",
      " 22  AcceptedCmp5         2240 non-null   int64  \n",
      " 23  AcceptedCmp1         2240 non-null   int64  \n",
      " 24  AcceptedCmp2         2240 non-null   int64  \n",
      " 25  Complain             2240 non-null   int64  \n",
      " 26  Z_CostContact        2240 non-null   int64  \n",
      " 27  Z_Revenue            2240 non-null   int64  \n",
      " 28  Response             2240 non-null   int64  \n",
      "dtypes: float64(1), int64(25), object(3)\n",
      "memory usage: 507.6+ KB\n"
     ]
    }
   ],
   "source": [
    "dataframe.info()"
   ]
  },
  {
   "cell_type": "markdown",
   "id": "0b326a17-e282-4533-bc90-f09b2f7c7718",
   "metadata": {},
   "source": [
    "#### Checking Descriptive Statistics"
   ]
  },
  {
   "cell_type": "code",
   "execution_count": 50,
   "id": "20d6e0a7-eb90-4b66-8616-e72bd3f48c5f",
   "metadata": {},
   "outputs": [
    {
     "data": {
      "text/html": [
       "<div>\n",
       "<style scoped>\n",
       "    .dataframe tbody tr th:only-of-type {\n",
       "        vertical-align: middle;\n",
       "    }\n",
       "\n",
       "    .dataframe tbody tr th {\n",
       "        vertical-align: top;\n",
       "    }\n",
       "\n",
       "    .dataframe thead th {\n",
       "        text-align: right;\n",
       "    }\n",
       "</style>\n",
       "<table border=\"1\" class=\"dataframe\">\n",
       "  <thead>\n",
       "    <tr style=\"text-align: right;\">\n",
       "      <th></th>\n",
       "      <th>ID</th>\n",
       "      <th>Year_Birth</th>\n",
       "      <th>Income</th>\n",
       "      <th>Kidhome</th>\n",
       "      <th>Teenhome</th>\n",
       "      <th>Recency</th>\n",
       "      <th>MntWines</th>\n",
       "      <th>MntFruits</th>\n",
       "      <th>MntMeatProducts</th>\n",
       "      <th>MntFishProducts</th>\n",
       "      <th>...</th>\n",
       "      <th>NumWebVisitsMonth</th>\n",
       "      <th>AcceptedCmp3</th>\n",
       "      <th>AcceptedCmp4</th>\n",
       "      <th>AcceptedCmp5</th>\n",
       "      <th>AcceptedCmp1</th>\n",
       "      <th>AcceptedCmp2</th>\n",
       "      <th>Complain</th>\n",
       "      <th>Z_CostContact</th>\n",
       "      <th>Z_Revenue</th>\n",
       "      <th>Response</th>\n",
       "    </tr>\n",
       "  </thead>\n",
       "  <tbody>\n",
       "    <tr>\n",
       "      <th>count</th>\n",
       "      <td>2240.000000</td>\n",
       "      <td>2240.000000</td>\n",
       "      <td>2216.000000</td>\n",
       "      <td>2240.000000</td>\n",
       "      <td>2240.000000</td>\n",
       "      <td>2240.000000</td>\n",
       "      <td>2240.000000</td>\n",
       "      <td>2240.000000</td>\n",
       "      <td>2240.000000</td>\n",
       "      <td>2240.000000</td>\n",
       "      <td>...</td>\n",
       "      <td>2240.000000</td>\n",
       "      <td>2240.000000</td>\n",
       "      <td>2240.000000</td>\n",
       "      <td>2240.000000</td>\n",
       "      <td>2240.000000</td>\n",
       "      <td>2240.000000</td>\n",
       "      <td>2240.000000</td>\n",
       "      <td>2240.0</td>\n",
       "      <td>2240.0</td>\n",
       "      <td>2240.000000</td>\n",
       "    </tr>\n",
       "    <tr>\n",
       "      <th>mean</th>\n",
       "      <td>5592.159821</td>\n",
       "      <td>1968.805804</td>\n",
       "      <td>52247.251354</td>\n",
       "      <td>0.444196</td>\n",
       "      <td>0.506250</td>\n",
       "      <td>49.109375</td>\n",
       "      <td>303.935714</td>\n",
       "      <td>26.302232</td>\n",
       "      <td>166.950000</td>\n",
       "      <td>37.525446</td>\n",
       "      <td>...</td>\n",
       "      <td>5.316518</td>\n",
       "      <td>0.072768</td>\n",
       "      <td>0.074554</td>\n",
       "      <td>0.072768</td>\n",
       "      <td>0.064286</td>\n",
       "      <td>0.013393</td>\n",
       "      <td>0.009375</td>\n",
       "      <td>3.0</td>\n",
       "      <td>11.0</td>\n",
       "      <td>0.149107</td>\n",
       "    </tr>\n",
       "    <tr>\n",
       "      <th>std</th>\n",
       "      <td>3246.662198</td>\n",
       "      <td>11.984069</td>\n",
       "      <td>25173.076661</td>\n",
       "      <td>0.538398</td>\n",
       "      <td>0.544538</td>\n",
       "      <td>28.962453</td>\n",
       "      <td>336.597393</td>\n",
       "      <td>39.773434</td>\n",
       "      <td>225.715373</td>\n",
       "      <td>54.628979</td>\n",
       "      <td>...</td>\n",
       "      <td>2.426645</td>\n",
       "      <td>0.259813</td>\n",
       "      <td>0.262728</td>\n",
       "      <td>0.259813</td>\n",
       "      <td>0.245316</td>\n",
       "      <td>0.114976</td>\n",
       "      <td>0.096391</td>\n",
       "      <td>0.0</td>\n",
       "      <td>0.0</td>\n",
       "      <td>0.356274</td>\n",
       "    </tr>\n",
       "    <tr>\n",
       "      <th>min</th>\n",
       "      <td>0.000000</td>\n",
       "      <td>1893.000000</td>\n",
       "      <td>1730.000000</td>\n",
       "      <td>0.000000</td>\n",
       "      <td>0.000000</td>\n",
       "      <td>0.000000</td>\n",
       "      <td>0.000000</td>\n",
       "      <td>0.000000</td>\n",
       "      <td>0.000000</td>\n",
       "      <td>0.000000</td>\n",
       "      <td>...</td>\n",
       "      <td>0.000000</td>\n",
       "      <td>0.000000</td>\n",
       "      <td>0.000000</td>\n",
       "      <td>0.000000</td>\n",
       "      <td>0.000000</td>\n",
       "      <td>0.000000</td>\n",
       "      <td>0.000000</td>\n",
       "      <td>3.0</td>\n",
       "      <td>11.0</td>\n",
       "      <td>0.000000</td>\n",
       "    </tr>\n",
       "    <tr>\n",
       "      <th>25%</th>\n",
       "      <td>2828.250000</td>\n",
       "      <td>1959.000000</td>\n",
       "      <td>35303.000000</td>\n",
       "      <td>0.000000</td>\n",
       "      <td>0.000000</td>\n",
       "      <td>24.000000</td>\n",
       "      <td>23.750000</td>\n",
       "      <td>1.000000</td>\n",
       "      <td>16.000000</td>\n",
       "      <td>3.000000</td>\n",
       "      <td>...</td>\n",
       "      <td>3.000000</td>\n",
       "      <td>0.000000</td>\n",
       "      <td>0.000000</td>\n",
       "      <td>0.000000</td>\n",
       "      <td>0.000000</td>\n",
       "      <td>0.000000</td>\n",
       "      <td>0.000000</td>\n",
       "      <td>3.0</td>\n",
       "      <td>11.0</td>\n",
       "      <td>0.000000</td>\n",
       "    </tr>\n",
       "    <tr>\n",
       "      <th>50%</th>\n",
       "      <td>5458.500000</td>\n",
       "      <td>1970.000000</td>\n",
       "      <td>51381.500000</td>\n",
       "      <td>0.000000</td>\n",
       "      <td>0.000000</td>\n",
       "      <td>49.000000</td>\n",
       "      <td>173.500000</td>\n",
       "      <td>8.000000</td>\n",
       "      <td>67.000000</td>\n",
       "      <td>12.000000</td>\n",
       "      <td>...</td>\n",
       "      <td>6.000000</td>\n",
       "      <td>0.000000</td>\n",
       "      <td>0.000000</td>\n",
       "      <td>0.000000</td>\n",
       "      <td>0.000000</td>\n",
       "      <td>0.000000</td>\n",
       "      <td>0.000000</td>\n",
       "      <td>3.0</td>\n",
       "      <td>11.0</td>\n",
       "      <td>0.000000</td>\n",
       "    </tr>\n",
       "    <tr>\n",
       "      <th>75%</th>\n",
       "      <td>8427.750000</td>\n",
       "      <td>1977.000000</td>\n",
       "      <td>68522.000000</td>\n",
       "      <td>1.000000</td>\n",
       "      <td>1.000000</td>\n",
       "      <td>74.000000</td>\n",
       "      <td>504.250000</td>\n",
       "      <td>33.000000</td>\n",
       "      <td>232.000000</td>\n",
       "      <td>50.000000</td>\n",
       "      <td>...</td>\n",
       "      <td>7.000000</td>\n",
       "      <td>0.000000</td>\n",
       "      <td>0.000000</td>\n",
       "      <td>0.000000</td>\n",
       "      <td>0.000000</td>\n",
       "      <td>0.000000</td>\n",
       "      <td>0.000000</td>\n",
       "      <td>3.0</td>\n",
       "      <td>11.0</td>\n",
       "      <td>0.000000</td>\n",
       "    </tr>\n",
       "    <tr>\n",
       "      <th>max</th>\n",
       "      <td>11191.000000</td>\n",
       "      <td>1996.000000</td>\n",
       "      <td>666666.000000</td>\n",
       "      <td>2.000000</td>\n",
       "      <td>2.000000</td>\n",
       "      <td>99.000000</td>\n",
       "      <td>1493.000000</td>\n",
       "      <td>199.000000</td>\n",
       "      <td>1725.000000</td>\n",
       "      <td>259.000000</td>\n",
       "      <td>...</td>\n",
       "      <td>20.000000</td>\n",
       "      <td>1.000000</td>\n",
       "      <td>1.000000</td>\n",
       "      <td>1.000000</td>\n",
       "      <td>1.000000</td>\n",
       "      <td>1.000000</td>\n",
       "      <td>1.000000</td>\n",
       "      <td>3.0</td>\n",
       "      <td>11.0</td>\n",
       "      <td>1.000000</td>\n",
       "    </tr>\n",
       "  </tbody>\n",
       "</table>\n",
       "<p>8 rows × 26 columns</p>\n",
       "</div>"
      ],
      "text/plain": [
       "                 ID   Year_Birth         Income      Kidhome     Teenhome  \\\n",
       "count   2240.000000  2240.000000    2216.000000  2240.000000  2240.000000   \n",
       "mean    5592.159821  1968.805804   52247.251354     0.444196     0.506250   \n",
       "std     3246.662198    11.984069   25173.076661     0.538398     0.544538   \n",
       "min        0.000000  1893.000000    1730.000000     0.000000     0.000000   \n",
       "25%     2828.250000  1959.000000   35303.000000     0.000000     0.000000   \n",
       "50%     5458.500000  1970.000000   51381.500000     0.000000     0.000000   \n",
       "75%     8427.750000  1977.000000   68522.000000     1.000000     1.000000   \n",
       "max    11191.000000  1996.000000  666666.000000     2.000000     2.000000   \n",
       "\n",
       "           Recency     MntWines    MntFruits  MntMeatProducts  \\\n",
       "count  2240.000000  2240.000000  2240.000000      2240.000000   \n",
       "mean     49.109375   303.935714    26.302232       166.950000   \n",
       "std      28.962453   336.597393    39.773434       225.715373   \n",
       "min       0.000000     0.000000     0.000000         0.000000   \n",
       "25%      24.000000    23.750000     1.000000        16.000000   \n",
       "50%      49.000000   173.500000     8.000000        67.000000   \n",
       "75%      74.000000   504.250000    33.000000       232.000000   \n",
       "max      99.000000  1493.000000   199.000000      1725.000000   \n",
       "\n",
       "       MntFishProducts  ...  NumWebVisitsMonth  AcceptedCmp3  AcceptedCmp4  \\\n",
       "count      2240.000000  ...        2240.000000   2240.000000   2240.000000   \n",
       "mean         37.525446  ...           5.316518      0.072768      0.074554   \n",
       "std          54.628979  ...           2.426645      0.259813      0.262728   \n",
       "min           0.000000  ...           0.000000      0.000000      0.000000   \n",
       "25%           3.000000  ...           3.000000      0.000000      0.000000   \n",
       "50%          12.000000  ...           6.000000      0.000000      0.000000   \n",
       "75%          50.000000  ...           7.000000      0.000000      0.000000   \n",
       "max         259.000000  ...          20.000000      1.000000      1.000000   \n",
       "\n",
       "       AcceptedCmp5  AcceptedCmp1  AcceptedCmp2     Complain  Z_CostContact  \\\n",
       "count   2240.000000   2240.000000   2240.000000  2240.000000         2240.0   \n",
       "mean       0.072768      0.064286      0.013393     0.009375            3.0   \n",
       "std        0.259813      0.245316      0.114976     0.096391            0.0   \n",
       "min        0.000000      0.000000      0.000000     0.000000            3.0   \n",
       "25%        0.000000      0.000000      0.000000     0.000000            3.0   \n",
       "50%        0.000000      0.000000      0.000000     0.000000            3.0   \n",
       "75%        0.000000      0.000000      0.000000     0.000000            3.0   \n",
       "max        1.000000      1.000000      1.000000     1.000000            3.0   \n",
       "\n",
       "       Z_Revenue     Response  \n",
       "count     2240.0  2240.000000  \n",
       "mean        11.0     0.149107  \n",
       "std          0.0     0.356274  \n",
       "min         11.0     0.000000  \n",
       "25%         11.0     0.000000  \n",
       "50%         11.0     0.000000  \n",
       "75%         11.0     0.000000  \n",
       "max         11.0     1.000000  \n",
       "\n",
       "[8 rows x 26 columns]"
      ]
     },
     "execution_count": 50,
     "metadata": {},
     "output_type": "execute_result"
    }
   ],
   "source": [
    "dataframe.describe()"
   ]
  },
  {
   "cell_type": "markdown",
   "id": "3fce76f2-971e-47f5-af05-9f5b696d4655",
   "metadata": {},
   "source": [
    "##### Observations:\n",
    "- NaN values in Income column can be imputed with median value.\n",
    "- Dt_Customer column can be used for further feature engineering."
   ]
  },
  {
   "cell_type": "markdown",
   "id": "0acb1d27-842d-4b01-b051-24201096af8c",
   "metadata": {},
   "source": [
    "### Data Handling"
   ]
  },
  {
   "cell_type": "markdown",
   "id": "99843a2b-cefe-4458-b433-7eed283b76a0",
   "metadata": {},
   "source": [
    "#### Separating Columns"
   ]
  },
  {
   "cell_type": "code",
   "execution_count": 51,
   "id": "07e1a4eb-71d5-4ad0-bb2d-173ae7744ad4",
   "metadata": {},
   "outputs": [],
   "source": [
    "N_columns= dataframe.select_dtypes(exclude= 'O').columns\n",
    "C_columns= dataframe.select_dtypes(include= 'O').columns"
   ]
  },
  {
   "cell_type": "markdown",
   "id": "59e81939-ba66-441a-b9ec-a3dd561de3d2",
   "metadata": {},
   "source": [
    "#### Exercising Imputation on Numerical Columns"
   ]
  },
  {
   "cell_type": "code",
   "execution_count": 52,
   "id": "57ef2228-6a5c-47cb-8c7a-9e20627ea1ec",
   "metadata": {},
   "outputs": [],
   "source": [
    "imputer= SimpleImputer(strategy= 'median')"
   ]
  },
  {
   "cell_type": "code",
   "execution_count": 53,
   "id": "34556235-d3cf-4c0e-ac77-e7ee7c70876b",
   "metadata": {},
   "outputs": [],
   "source": [
    "dataframe[N_columns]= imputer.fit_transform(dataframe[N_columns])"
   ]
  },
  {
   "cell_type": "code",
   "execution_count": 54,
   "id": "3113fe99-dbbf-4335-8eca-284ec6a92d6b",
   "metadata": {},
   "outputs": [
    {
     "data": {
      "text/plain": [
       "ID                     0\n",
       "Year_Birth             0\n",
       "Education              0\n",
       "Marital_Status         0\n",
       "Income                 0\n",
       "Kidhome                0\n",
       "Teenhome               0\n",
       "Dt_Customer            0\n",
       "Recency                0\n",
       "MntWines               0\n",
       "MntFruits              0\n",
       "MntMeatProducts        0\n",
       "MntFishProducts        0\n",
       "MntSweetProducts       0\n",
       "MntGoldProds           0\n",
       "NumDealsPurchases      0\n",
       "NumWebPurchases        0\n",
       "NumCatalogPurchases    0\n",
       "NumStorePurchases      0\n",
       "NumWebVisitsMonth      0\n",
       "AcceptedCmp3           0\n",
       "AcceptedCmp4           0\n",
       "AcceptedCmp5           0\n",
       "AcceptedCmp1           0\n",
       "AcceptedCmp2           0\n",
       "Complain               0\n",
       "Z_CostContact          0\n",
       "Z_Revenue              0\n",
       "Response               0\n",
       "dtype: int64"
      ]
     },
     "execution_count": 54,
     "metadata": {},
     "output_type": "execute_result"
    }
   ],
   "source": [
    "dataframe.isna().sum()"
   ]
  },
  {
   "cell_type": "markdown",
   "id": "cade88bf-2cd1-47d0-a29e-5524e2ee7084",
   "metadata": {},
   "source": [
    "The NaN values in Income column have been replaced by median value."
   ]
  },
  {
   "cell_type": "markdown",
   "id": "857d73db-b986-4d58-bd88-5410f8fce38a",
   "metadata": {},
   "source": [
    "#### Performing Feature Engineering on Dt_Customer"
   ]
  },
  {
   "cell_type": "code",
   "execution_count": 55,
   "id": "a0adac41-1b58-4163-ba07-adfc2a411b48",
   "metadata": {},
   "outputs": [],
   "source": [
    "dataframe.Dt_Customer= pd.to_datetime(dataframe.Dt_Customer, format= '%d-%m-%Y')"
   ]
  },
  {
   "cell_type": "markdown",
   "id": "a72eba5c-760e-420e-a3d2-6f3b03fc6cf7",
   "metadata": {},
   "source": [
    "##### Position of Dt_Customer column in dataframe"
   ]
  },
  {
   "cell_type": "code",
   "execution_count": 56,
   "id": "1c028693-39c0-4df1-af48-e4fba4c2f382",
   "metadata": {},
   "outputs": [
    {
     "data": {
      "text/plain": [
       "7"
      ]
     },
     "execution_count": 56,
     "metadata": {},
     "output_type": "execute_result"
    }
   ],
   "source": [
    "dataframe.columns.get_loc('Dt_Customer')"
   ]
  },
  {
   "cell_type": "markdown",
   "id": "fd76e268-dbd3-4a74-934f-9f1e3b0ba357",
   "metadata": {},
   "source": [
    "Now that we have the location of Dt_Customer column, we will add the columns to right side of this location."
   ]
  },
  {
   "cell_type": "code",
   "execution_count": 57,
   "id": "3ff64652-f62f-4d09-a2a8-59e16d2a6431",
   "metadata": {},
   "outputs": [],
   "source": [
    "day_component= dataframe.Dt_Customer.dt.day\n",
    "month_component= dataframe.Dt_Customer.dt.month\n",
    "year_component= dataframe.Dt_Customer.dt.year"
   ]
  },
  {
   "cell_type": "code",
   "execution_count": 58,
   "id": "0f2fcd91-4025-43bb-a337-a19e7d59a579",
   "metadata": {},
   "outputs": [],
   "source": [
    "dataframe.insert(loc= 8, column= 'Dt_Customer_D', value= day_component)\n",
    "dataframe.insert(loc= 9, column= 'Dt_Customer_M', value= month_component)\n",
    "dataframe.insert(loc= 10, column= 'Dt_Customer_Y', value= year_component)"
   ]
  },
  {
   "cell_type": "code",
   "execution_count": 60,
   "id": "4a21f053-1083-40f4-9420-69cb0ae7e2a7",
   "metadata": {},
   "outputs": [],
   "source": [
    "dataframe.drop('Dt_Customer', axis= 1, inplace= True)"
   ]
  },
  {
   "cell_type": "code",
   "execution_count": 61,
   "id": "b402e549-3cb1-4032-923d-60a6ceae00d7",
   "metadata": {},
   "outputs": [
    {
     "name": "stdout",
     "output_type": "stream",
     "text": [
      "<class 'pandas.core.frame.DataFrame'>\n",
      "RangeIndex: 2240 entries, 0 to 2239\n",
      "Data columns (total 31 columns):\n",
      " #   Column               Non-Null Count  Dtype  \n",
      "---  ------               --------------  -----  \n",
      " 0   ID                   2240 non-null   float64\n",
      " 1   Year_Birth           2240 non-null   float64\n",
      " 2   Education            2240 non-null   object \n",
      " 3   Marital_Status       2240 non-null   object \n",
      " 4   Income               2240 non-null   float64\n",
      " 5   Kidhome              2240 non-null   float64\n",
      " 6   Teenhome             2240 non-null   float64\n",
      " 7   Dt_Customer_D        2240 non-null   int32  \n",
      " 8   Dt_Customer_M        2240 non-null   int32  \n",
      " 9   Dt_Customer_Y        2240 non-null   int32  \n",
      " 10  Recency              2240 non-null   float64\n",
      " 11  MntWines             2240 non-null   float64\n",
      " 12  MntFruits            2240 non-null   float64\n",
      " 13  MntMeatProducts      2240 non-null   float64\n",
      " 14  MntFishProducts      2240 non-null   float64\n",
      " 15  MntSweetProducts     2240 non-null   float64\n",
      " 16  MntGoldProds         2240 non-null   float64\n",
      " 17  NumDealsPurchases    2240 non-null   float64\n",
      " 18  NumWebPurchases      2240 non-null   float64\n",
      " 19  NumCatalogPurchases  2240 non-null   float64\n",
      " 20  NumStorePurchases    2240 non-null   float64\n",
      " 21  NumWebVisitsMonth    2240 non-null   float64\n",
      " 22  AcceptedCmp3         2240 non-null   float64\n",
      " 23  AcceptedCmp4         2240 non-null   float64\n",
      " 24  AcceptedCmp5         2240 non-null   float64\n",
      " 25  AcceptedCmp1         2240 non-null   float64\n",
      " 26  AcceptedCmp2         2240 non-null   float64\n",
      " 27  Complain             2240 non-null   float64\n",
      " 28  Z_CostContact        2240 non-null   float64\n",
      " 29  Z_Revenue            2240 non-null   float64\n",
      " 30  Response             2240 non-null   float64\n",
      "dtypes: float64(26), int32(3), object(2)\n",
      "memory usage: 516.4+ KB\n"
     ]
    }
   ],
   "source": [
    "dataframe.info()"
   ]
  },
  {
   "cell_type": "markdown",
   "id": "4a1184d3-f4ff-4a44-8e09-3567887cb739",
   "metadata": {},
   "source": [
    "The data has been cleaned."
   ]
  },
  {
   "cell_type": "markdown",
   "id": "3cf4d312-0c89-4983-9c90-93fab3c0e1d9",
   "metadata": {},
   "source": [
    "## Data Visualization"
   ]
  },
  {
   "cell_type": "markdown",
   "id": "9eca1133-8cbb-49a0-9a76-dede09e94d20",
   "metadata": {},
   "source": [
    "### Education vs. Income"
   ]
  },
  {
   "cell_type": "code",
   "execution_count": 70,
   "id": "1b95380b-26ea-406b-9a62-83828bec7c3e",
   "metadata": {},
   "outputs": [
    {
     "data": {
      "image/png": "[encoded data removed]",
      "text/plain": [
       "<Figure size 640x480 with 1 Axes>"
      ]
     },
     "metadata": {},
     "output_type": "display_data"
    }
   ],
   "source": [
    "sns.barplot(x= dataframe.Education,\n",
    "            y= dataframe.Income);"
   ]
  },
  {
   "cell_type": "markdown",
   "id": "416740ba-577e-49f1-be62-04daec1f7d29",
   "metadata": {},
   "source": [
    "##### Observations:\n",
    "- Education level is directly proportional to the Income."
   ]
  },
  {
   "cell_type": "markdown",
   "id": "86746059-80cc-4cda-9453-c874cf245d58",
   "metadata": {},
   "source": [
    "### Marital_Status vs. Income"
   ]
  },
  {
   "cell_type": "code",
   "execution_count": 71,
   "id": "6a7564dd-648a-4521-9a23-208690fee410",
   "metadata": {},
   "outputs": [
    {
     "data": {
      "image/png": "[encoded data removed]",
      "text/plain": [
       "<Figure size 640x480 with 1 Axes>"
      ]
     },
     "metadata": {},
     "output_type": "display_data"
    }
   ],
   "source": [
    "sns.barplot(x= dataframe.Marital_Status,\n",
    "            y= dataframe.Income);"
   ]
  },
  {
   "cell_type": "markdown",
   "id": "93aa6f3f-d588-436c-8e31-a09beaf9bbc0",
   "metadata": {},
   "source": [
    "##### Observations:\n",
    "- Absurd category has highest Income.\n",
    "- Alone category has lowest Income and highest variance."
   ]
  },
  {
   "cell_type": "markdown",
   "id": "7175154b-200f-4059-a8c9-51eaf2167ba5",
   "metadata": {},
   "source": [
    "### Income vs. Minor Count"
   ]
  },
  {
   "cell_type": "code",
   "execution_count": 85,
   "id": "6026b383-64c9-4836-b7ad-3ecc9cee80f9",
   "metadata": {},
   "outputs": [
    {
     "data": {
      "image/png": "[encoded data removed]",
      "text/plain": [
       "<Figure size 640x480 with 1 Axes>"
      ]
     },
     "metadata": {},
     "output_type": "display_data"
    }
   ],
   "source": [
    "sns.barplot(x= dataframe.Teenhome + dataframe.Kidhome,\n",
    "            y= dataframe.Income)\n",
    "plt.xlabel('Number of Minors in Family');"
   ]
  },
  {
   "cell_type": "markdown",
   "id": "710695a6-2478-4344-8bea-3e5d173c0d7d",
   "metadata": {},
   "source": [
    "##### Observations:\n",
    "- People with no minors have higher income.\n",
    "- People with 2 minors have lowest income.\n",
    "- People with 3 minors have highest variance in Income."
   ]
  },
  {
   "cell_type": "markdown",
   "id": "a8abd47c-25ed-4c20-a81d-ddd85030b1e4",
   "metadata": {},
   "source": [
    "### Count of People in each Campagin"
   ]
  },
  {
   "cell_type": "code",
   "execution_count": 95,
   "id": "2f09d2c1-c50b-4574-a306-8e2045bc69ef",
   "metadata": {},
   "outputs": [
    {
     "data": {
      "image/png": "[encoded data removed]",
      "text/plain": [
       "<Figure size 640x480 with 1 Axes>"
      ]
     },
     "metadata": {},
     "output_type": "display_data"
    }
   ],
   "source": [
    "sns.histplot(x= list(map(int, (dataframe.AcceptedCmp1 + dataframe.AcceptedCmp2 + dataframe.AcceptedCmp3 + dataframe.AcceptedCmp4 + dataframe.AcceptedCmp5))))\n",
    "plt.xticks(range(0, 5));"
   ]
  },
  {
   "cell_type": "markdown",
   "id": "01a97714-17a4-4b0e-8b51-27597c5eca65",
   "metadata": {},
   "source": [
    "##### Observations:\n",
    "- There is an exponential rate of drop off in campagin sign-ins."
   ]
  }
 ],
 "metadata": {
  "kernelspec": {
   "display_name": "Python 3 (ipykernel)",
   "language": "python",
   "name": "python3"
  },
  "language_info": {
   "codemirror_mode": {
    "name": "ipython",
    "version": 3
   },
   "file_extension": ".py",
   "mimetype": "text/x-python",
   "name": "python",
   "nbconvert_exporter": "python",
   "pygments_lexer": "ipython3",
   "version": "3.10.11"
  }
 },
 "nbformat": 4,
 "nbformat_minor": 5
}
