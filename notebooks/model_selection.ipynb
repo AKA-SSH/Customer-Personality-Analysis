{
 "cells": [
  {
   "cell_type": "markdown",
   "id": "11f74dd5-64e0-4eb9-89e1-aabd9272cab3",
   "metadata": {},
   "source": [
    "## Prerequisites"
   ]
  },
  {
   "cell_type": "code",
   "execution_count": 33,
   "id": "518d49ba-12c3-4d4f-8ca9-99651ff6b1ab",
   "metadata": {},
   "outputs": [],
   "source": [
    "import os\n",
    "\n",
    "# data manipulation\n",
    "import numpy as np\n",
    "import pandas as pd\n",
    "\n",
    "# preprocessing\n",
    "from sklearn.impute import SimpleImputer\n",
    "from sklearn.compose import ColumnTransformer\n",
    "from sklearn.model_selection import train_test_split\n",
    "from sklearn.preprocessing import OneHotEncoder, StandardScaler\n",
    "\n",
    "# machine learning models\n",
    "from sklearn.cluster import KMeans, AgglomerativeClustering, DBSCAN, AgglomerativeClustering, MeanShift, AffinityPropagation\n",
    "from sklearn.mixture import GaussianMixture\n",
    "\n",
    "# hyperparameter tuning\n",
    "from sklearn.model_selection import GridSearchCV\n",
    "\n",
    "# evaluation metrics\n",
    "from tabulate import tabulate\n",
    "from sklearn.metrics import silhouette_score, calinski_harabasz_score, davies_bouldin_score"
   ]
  },
  {
   "cell_type": "markdown",
   "id": "84eaf866-9e9d-4a26-9d1c-c40524b0f788",
   "metadata": {},
   "source": [
    "## Data Ingestion"
   ]
  },
  {
   "cell_type": "code",
   "execution_count": 34,
   "id": "2dc55ae7-8358-46aa-8f34-168f4289d25f",
   "metadata": {},
   "outputs": [],
   "source": [
    "os.chdir('..')\n",
    "os.chdir('data')\n",
    "dataframe= pd.read_csv('marketing_campaign.csv', sep= '\\t')\n",
    "os.chdir('..')\n",
    "os.chdir('notebooks')"
   ]
  },
  {
   "cell_type": "markdown",
   "id": "5e8f3391-b396-4201-8884-b0f8e6a8a15b",
   "metadata": {},
   "source": [
    "## Data Transformation"
   ]
  },
  {
   "cell_type": "markdown",
   "id": "f87e54e1-01f1-4cee-bdcb-70dc75f3e9ca",
   "metadata": {},
   "source": [
    "### Data Handling"
   ]
  },
  {
   "cell_type": "markdown",
   "id": "8390a553-09d6-4106-9d2a-bd1a6a3f744c",
   "metadata": {},
   "source": [
    "#### Feature Separation"
   ]
  },
  {
   "cell_type": "code",
   "execution_count": 35,
   "id": "3d789e9d-f545-4889-8017-57818fe2bdfa",
   "metadata": {},
   "outputs": [],
   "source": [
    "dataframe.drop('ID', axis= 1, inplace= True)"
   ]
  },
  {
   "cell_type": "markdown",
   "id": "9a4adb93-166b-47d3-8289-5d8672992f03",
   "metadata": {},
   "source": [
    "#### Performing Feature Engineering on Dt_Customer"
   ]
  },
  {
   "cell_type": "code",
   "execution_count": 36,
   "id": "a62984d7-7ca1-4658-900b-ca1db3932488",
   "metadata": {},
   "outputs": [],
   "source": [
    "dataframe.Dt_Customer= pd.to_datetime(dataframe.Dt_Customer, format= '%d-%m-%Y')\n",
    "\n",
    "day_component= dataframe.Dt_Customer.dt.day\n",
    "month_component= dataframe.Dt_Customer.dt.month\n",
    "year_component= dataframe.Dt_Customer.dt.year\n",
    "\n",
    "dataframe.insert(loc= 8, column= 'Dt_Customer_D', value= day_component)\n",
    "dataframe.insert(loc= 9, column= 'Dt_Customer_M', value= month_component)\n",
    "dataframe.insert(loc= 10, column= 'Dt_Customer_Y', value= year_component)\n",
    "\n",
    "dataframe.drop('Dt_Customer', axis= 1, inplace= True)"
   ]
  },
  {
   "cell_type": "code",
   "execution_count": 37,
   "id": "8c9ab36a-97b5-409b-8e88-699f06cac978",
   "metadata": {},
   "outputs": [],
   "source": [
    "N_columns= dataframe.select_dtypes(exclude= 'O').columns \n",
    "C_columns= dataframe.select_dtypes(include= 'O').columns"
   ]
  },
  {
   "cell_type": "markdown",
   "id": "b757e4ac-80f2-48c3-bba9-6bd99dfcf21f",
   "metadata": {},
   "source": [
    "#### Imputing NaN value in Income column"
   ]
  },
  {
   "cell_type": "code",
   "execution_count": 38,
   "id": "1c5bd820-fc44-4d34-9ea6-de9e75768441",
   "metadata": {},
   "outputs": [],
   "source": [
    "imputer= SimpleImputer(strategy= 'median')\n",
    "dataframe[N_columns]= imputer.fit_transform(dataframe[N_columns])"
   ]
  },
  {
   "cell_type": "markdown",
   "id": "f5c03013-3ea5-41b0-9712-f4b5de9e4319",
   "metadata": {},
   "source": [
    "#### Transforming Separated Features"
   ]
  },
  {
   "cell_type": "code",
   "execution_count": 39,
   "id": "362f5ff7-4283-43d7-b259-84208a4e3a99",
   "metadata": {},
   "outputs": [],
   "source": [
    "N_transformer= StandardScaler()\n",
    "C_transformer= OneHotEncoder()"
   ]
  },
  {
   "cell_type": "code",
   "execution_count": 40,
   "id": "7ecddd8f-2929-4662-bae1-6e2fd0c440f5",
   "metadata": {},
   "outputs": [],
   "source": [
    "preprocessor= ColumnTransformer([('OneHotEncoder', C_transformer, C_columns),\n",
    "                                 ('StandardScaler', N_transformer, N_columns)])"
   ]
  },
  {
   "cell_type": "code",
   "execution_count": 41,
   "id": "d8de5c40-9636-47cd-9392-d4ac0e782382",
   "metadata": {},
   "outputs": [],
   "source": [
    "scaled_dataframe= preprocessor.fit_transform(dataframe)"
   ]
  },
  {
   "cell_type": "markdown",
   "id": "c79bb782-a0aa-4bcc-a527-5037cdd5671f",
   "metadata": {},
   "source": [
    "## Model Selection"
   ]
  },
  {
   "cell_type": "markdown",
   "id": "3f166a7f-b315-4bf4-8b3f-0a4ef769d633",
   "metadata": {},
   "source": [
    "### Evaluation Metrics"
   ]
  },
  {
   "cell_type": "code",
   "execution_count": 49,
   "id": "02d9f649-6b6d-4432-91de-831bf17d487e",
   "metadata": {},
   "outputs": [],
   "source": [
    "def evaluate_model(model_name, scaled_dataframe, cluster_labels):\n",
    "    # if model_name not in ['DBSCAN', 'Gaussian Mixture Model']:\n",
    "    SIL= silhouette_score(scaled_dataframe, cluster_labels)\n",
    "    CHS= calinski_harabasz_score(scaled_dataframe, cluster_labels)\n",
    "    table= [['SIL', SIL], \n",
    "                ['CHS', CHS]]\n",
    "    # else:\n",
    "        # DBS= davies_bouldin_score(scaled_dataframe, cluster_labels)\n",
    "        # table= [['DBS', DBS]]\n",
    "    \n",
    "    evaluation= tabulate(table, \n",
    "                         headers= ['METRIC', 'SCORE'], \n",
    "                         tablefmt= 'grid')\n",
    "    return evaluation"
   ]
  },
  {
   "cell_type": "code",
   "execution_count": 50,
   "id": "967617fb-979b-4fa1-b855-dd7b026d6365",
   "metadata": {},
   "outputs": [],
   "source": [
    "def train_and_evaluate_model(model_object, model_name, scaled_dataframe):\n",
    "    cluster_labels= model_object.fit_predict(scaled_dataframe)\n",
    "    model_report= evaluate_model(model_name, scaled_dataframe, cluster_labels)\n",
    "    print(f'{model_name}\\n{model_report}')"
   ]
  },
  {
   "cell_type": "code",
   "execution_count": 51,
   "id": "c459dffa-a3cc-4b5f-b787-8a778fc57a4c",
   "metadata": {},
   "outputs": [],
   "source": [
    "clustering_models= {'KMeans': KMeans(),\n",
    "                    'Agglomerative Clustering': AgglomerativeClustering(),\n",
    "                    # 'DBSCAN': DBSCAN(),\n",
    "                    'MeanShift': MeanShift(),\n",
    "                    'Affinity Propagation': AffinityPropagation(),\n",
    "                    # 'Gaussian Mixture Model': GaussianMixture()\n",
    "                   }                   "
   ]
  },
  {
   "cell_type": "code",
   "execution_count": 52,
   "id": "27704515-53df-4f9a-a38d-c54e1565af06",
   "metadata": {},
   "outputs": [
    {
     "name": "stdout",
     "output_type": "stream",
     "text": [
      "KMeans\n",
      "+----------+------------+\n",
      "| METRIC   |      SCORE |\n",
      "+==========+============+\n",
      "| SIL      |   0.111105 |\n",
      "+----------+------------+\n",
      "| CHS      | 165.025    |\n",
      "+----------+------------+\n",
      "Agglomerative Clustering\n",
      "+----------+------------+\n",
      "| METRIC   |      SCORE |\n",
      "+==========+============+\n",
      "| SIL      |   0.188186 |\n",
      "+----------+------------+\n",
      "| CHS      | 430.983    |\n",
      "+----------+------------+\n",
      "MeanShift\n",
      "+----------+-----------+\n",
      "| METRIC   |     SCORE |\n",
      "+==========+===========+\n",
      "| SIL      |  0.193383 |\n",
      "+----------+-----------+\n",
      "| CHS      | 27.723    |\n",
      "+----------+-----------+\n",
      "Affinity Propagation\n",
      "+----------+------------+\n",
      "| METRIC   |      SCORE |\n",
      "+==========+============+\n",
      "| SIL      |  0.0814834 |\n",
      "+----------+------------+\n",
      "| CHS      | 31.4999    |\n",
      "+----------+------------+\n"
     ]
    },
    {
     "name": "stderr",
     "output_type": "stream",
     "text": [
      "C:\\Users\\Akash\\Desktop\\machine-learning-end-to-end-projects\\clustering_problem\\.venv\\lib\\site-packages\\sklearn\\cluster\\_affinity_propagation.py:142: ConvergenceWarning: Affinity propagation did not converge, this model may return degenerate cluster centers and labels.\n",
      "  warnings.warn(\n"
     ]
    }
   ],
   "source": [
    "for model_name, model_object in clustering_models.items():\n",
    "    train_and_evaluate_model(model_object, model_name, scaled_dataframe)"
   ]
  },
  {
   "cell_type": "markdown",
   "id": "c8037dd2-711c-40a7-8a63-e6eedd35edea",
   "metadata": {},
   "source": [
    "Currently, Agglomerative Clustering is working the best, as it has highest CHS and good SIL."
   ]
  },
  {
   "cell_type": "code",
   "execution_count": null,
   "id": "8fcbbae1-97cc-48fe-9fad-7af72bd8a166",
   "metadata": {},
   "outputs": [],
   "source": []
  }
 ],
 "metadata": {
  "kernelspec": {
   "display_name": "Python 3 (ipykernel)",
   "language": "python",
   "name": "python3"
  },
  "language_info": {
   "codemirror_mode": {
    "name": "ipython",
    "version": 3
   },
   "file_extension": ".py",
   "mimetype": "text/x-python",
   "name": "python",
   "nbconvert_exporter": "python",
   "pygments_lexer": "ipython3",
   "version": "3.10.11"
  }
 },
 "nbformat": 4,
 "nbformat_minor": 5
}
